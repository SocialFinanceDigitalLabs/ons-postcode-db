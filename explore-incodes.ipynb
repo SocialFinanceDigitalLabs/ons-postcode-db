{
 "cells": [
  {
   "cell_type": "code",
   "execution_count": 3,
   "id": "134f3672-7610-4aef-bbf3-791f0af23001",
   "metadata": {},
   "outputs": [],
   "source": [
    "%load_ext sql\n",
    "%sql sqlite:///geo.db"
   ]
  },
  {
   "cell_type": "code",
   "execution_count": 4,
   "id": "b4bfab2f-b4a0-4435-9c83-74304b9fe921",
   "metadata": {},
   "outputs": [
    {
     "name": "stdout",
     "output_type": "stream",
     "text": [
      " * sqlite:///geo.db\n",
      "Done.\n"
     ]
    }
   ],
   "source": [
    "result = %sql SELECT distinct substr(pcd,-3,3) from postcode order by substr(pcd,-3,3)"
   ]
  },
  {
   "cell_type": "code",
   "execution_count": 5,
   "id": "2adc62f9-d017-416d-ad6d-f91196f932cd",
   "metadata": {},
   "outputs": [],
   "source": [
    "df = result.DataFrame()"
   ]
  },
  {
   "cell_type": "code",
   "execution_count": 6,
   "id": "7d1f8454-0058-435f-9d54-4dce4f9fb15e",
   "metadata": {},
   "outputs": [
    {
     "data": {
      "text/html": [
       "<div>\n",
       "<style scoped>\n",
       "    .dataframe tbody tr th:only-of-type {\n",
       "        vertical-align: middle;\n",
       "    }\n",
       "\n",
       "    .dataframe tbody tr th {\n",
       "        vertical-align: top;\n",
       "    }\n",
       "\n",
       "    .dataframe thead th {\n",
       "        text-align: right;\n",
       "    }\n",
       "</style>\n",
       "<table border=\"1\" class=\"dataframe\">\n",
       "  <thead>\n",
       "    <tr style=\"text-align: right;\">\n",
       "      <th></th>\n",
       "      <th>substr(pcd,-3,3)</th>\n",
       "    </tr>\n",
       "  </thead>\n",
       "  <tbody>\n",
       "    <tr>\n",
       "      <th>0</th>\n",
       "      <td>0AA</td>\n",
       "    </tr>\n",
       "    <tr>\n",
       "      <th>1</th>\n",
       "      <td>0AB</td>\n",
       "    </tr>\n",
       "    <tr>\n",
       "      <th>2</th>\n",
       "      <td>0AD</td>\n",
       "    </tr>\n",
       "    <tr>\n",
       "      <th>3</th>\n",
       "      <td>0AE</td>\n",
       "    </tr>\n",
       "    <tr>\n",
       "      <th>4</th>\n",
       "      <td>0AF</td>\n",
       "    </tr>\n",
       "    <tr>\n",
       "      <th>...</th>\n",
       "      <td>...</td>\n",
       "    </tr>\n",
       "    <tr>\n",
       "      <th>3996</th>\n",
       "      <td>9ZU</td>\n",
       "    </tr>\n",
       "    <tr>\n",
       "      <th>3997</th>\n",
       "      <td>9ZW</td>\n",
       "    </tr>\n",
       "    <tr>\n",
       "      <th>3998</th>\n",
       "      <td>9ZX</td>\n",
       "    </tr>\n",
       "    <tr>\n",
       "      <th>3999</th>\n",
       "      <td>9ZY</td>\n",
       "    </tr>\n",
       "    <tr>\n",
       "      <th>4000</th>\n",
       "      <td>9ZZ</td>\n",
       "    </tr>\n",
       "  </tbody>\n",
       "</table>\n",
       "<p>4001 rows × 1 columns</p>\n",
       "</div>"
      ],
      "text/plain": [
       "     substr(pcd,-3,3)\n",
       "0                 0AA\n",
       "1                 0AB\n",
       "2                 0AD\n",
       "3                 0AE\n",
       "4                 0AF\n",
       "...               ...\n",
       "3996              9ZU\n",
       "3997              9ZW\n",
       "3998              9ZX\n",
       "3999              9ZY\n",
       "4000              9ZZ\n",
       "\n",
       "[4001 rows x 1 columns]"
      ]
     },
     "execution_count": 6,
     "metadata": {},
     "output_type": "execute_result"
    }
   ],
   "source": [
    "df"
   ]
  },
  {
   "cell_type": "code",
   "execution_count": 8,
   "id": "fcb00f6e-6a56-4952-b982-f3ba8beacd3a",
   "metadata": {},
   "outputs": [
    {
     "data": {
      "text/plain": [
       "12"
      ]
     },
     "execution_count": 8,
     "metadata": {},
     "output_type": "execute_result"
    }
   ],
   "source": [
    "int(df.shape[0]).bit_length()"
   ]
  },
  {
   "cell_type": "markdown",
   "id": "086f2914-3640-4815-897e-f5ab4a011394",
   "metadata": {},
   "source": [
    "The first position is always a digit between 0 and 9 -> so we can store this in 4 bits.\n",
    "\n",
    "How many unique combinations of the remainder exists?"
   ]
  },
  {
   "cell_type": "code",
   "execution_count": 83,
   "id": "07d98286-6c2c-4023-b418-40c98b6c9dbb",
   "metadata": {},
   "outputs": [
    {
     "name": "stdout",
     "output_type": "stream",
     "text": [
      " * sqlite:///geo.db\n",
      "Done.\n"
     ]
    },
    {
     "data": {
      "text/html": [
       "<div>\n",
       "<style scoped>\n",
       "    .dataframe tbody tr th:only-of-type {\n",
       "        vertical-align: middle;\n",
       "    }\n",
       "\n",
       "    .dataframe tbody tr th {\n",
       "        vertical-align: top;\n",
       "    }\n",
       "\n",
       "    .dataframe thead th {\n",
       "        text-align: right;\n",
       "    }\n",
       "</style>\n",
       "<table border=\"1\" class=\"dataframe\">\n",
       "  <thead>\n",
       "    <tr style=\"text-align: right;\">\n",
       "      <th></th>\n",
       "      <th>substr(pcd,-2,2)</th>\n",
       "    </tr>\n",
       "  </thead>\n",
       "  <tbody>\n",
       "    <tr>\n",
       "      <th>0</th>\n",
       "      <td>AA</td>\n",
       "    </tr>\n",
       "    <tr>\n",
       "      <th>1</th>\n",
       "      <td>AB</td>\n",
       "    </tr>\n",
       "    <tr>\n",
       "      <th>2</th>\n",
       "      <td>AD</td>\n",
       "    </tr>\n",
       "    <tr>\n",
       "      <th>3</th>\n",
       "      <td>AE</td>\n",
       "    </tr>\n",
       "    <tr>\n",
       "      <th>4</th>\n",
       "      <td>AF</td>\n",
       "    </tr>\n",
       "    <tr>\n",
       "      <th>...</th>\n",
       "      <td>...</td>\n",
       "    </tr>\n",
       "    <tr>\n",
       "      <th>396</th>\n",
       "      <td>ZU</td>\n",
       "    </tr>\n",
       "    <tr>\n",
       "      <th>397</th>\n",
       "      <td>ZW</td>\n",
       "    </tr>\n",
       "    <tr>\n",
       "      <th>398</th>\n",
       "      <td>ZX</td>\n",
       "    </tr>\n",
       "    <tr>\n",
       "      <th>399</th>\n",
       "      <td>ZY</td>\n",
       "    </tr>\n",
       "    <tr>\n",
       "      <th>400</th>\n",
       "      <td>ZZ</td>\n",
       "    </tr>\n",
       "  </tbody>\n",
       "</table>\n",
       "<p>401 rows × 1 columns</p>\n",
       "</div>"
      ],
      "text/plain": [
       "    substr(pcd,-2,2)\n",
       "0                 AA\n",
       "1                 AB\n",
       "2                 AD\n",
       "3                 AE\n",
       "4                 AF\n",
       "..               ...\n",
       "396               ZU\n",
       "397               ZW\n",
       "398               ZX\n",
       "399               ZY\n",
       "400               ZZ\n",
       "\n",
       "[401 rows x 1 columns]"
      ]
     },
     "execution_count": 83,
     "metadata": {},
     "output_type": "execute_result"
    }
   ],
   "source": [
    "result = %sql SELECT distinct substr(pcd,-2,2) from postcode order by substr(pcd,-2,2)\n",
    "df = result.DataFrame()\n",
    "df"
   ]
  },
  {
   "cell_type": "code",
   "execution_count": 84,
   "id": "2d2d9f38-c0b7-4722-8a67-c936c3c0ebb5",
   "metadata": {},
   "outputs": [
    {
     "data": {
      "text/plain": [
       "9"
      ]
     },
     "execution_count": 84,
     "metadata": {},
     "output_type": "execute_result"
    }
   ],
   "source": [
    "int(df.shape[0]).bit_length()"
   ]
  },
  {
   "cell_type": "markdown",
   "id": "9cd047de-969a-4ac6-bdbb-738c9d1d6eb4",
   "metadata": {},
   "source": [
    "This gives us a combined bit-length of 13 which is better than our original table, but still not as efficient as a lookup of the whole value-set"
   ]
  },
  {
   "cell_type": "markdown",
   "id": "7a38713a-6a0b-4190-a884-d9c76851f851",
   "metadata": {},
   "source": [
    "# Random stuff"
   ]
  },
  {
   "cell_type": "code",
   "execution_count": 67,
   "id": "bd500ec1-83ea-469e-a980-a26fd6055e56",
   "metadata": {},
   "outputs": [],
   "source": [
    "from dahuffman import HuffmanCodec, load_shakespeare"
   ]
  },
  {
   "cell_type": "code",
   "execution_count": null,
   "id": "87fadafc-cb2e-416b-a72e-b579bdaf894a",
   "metadata": {},
   "outputs": [],
   "source": []
  },
  {
   "cell_type": "code",
   "execution_count": 61,
   "id": "6e5e646b-e4f3-4037-944c-f067fd522b85",
   "metadata": {},
   "outputs": [],
   "source": [
    "value = \" \".join([r[0] for r in result])"
   ]
  },
  {
   "cell_type": "code",
   "execution_count": 62,
   "id": "faee49c9-0570-47d1-b9eb-f6975223e9ca",
   "metadata": {},
   "outputs": [],
   "source": [
    "value = 'If this were a bit of longer text with repeat structures such as and the and text, then how will it do'\n",
    "codec = HuffmanCodec.from_data(value)"
   ]
  },
  {
   "cell_type": "code",
   "execution_count": 63,
   "id": "5bf4f91c-1fa2-4f4a-9775-d7bdeab2d340",
   "metadata": {},
   "outputs": [
    {
     "name": "stdout",
     "output_type": "stream",
     "text": [
      "Bits Code    Value Symbol\n",
      "   2 00          0 ' '\n",
      "   4 0100        4 'i'\n",
      "   4 0101        5 'r'\n",
      "   4 0110        6 's'\n",
      "   5 01110      14 'd'\n",
      "   5 01111      15 'l'\n",
      "   4 1000        8 'h'\n",
      "   5 10010      18 'u'\n",
      "   7 1001100    76 _EOF\n",
      "   7 1001101    77 ','\n",
      "   7 1001110    78 'I'\n",
      "   7 1001111    79 'b'\n",
      "   3 101         5 't'\n",
      "   6 110000     48 'c'\n",
      "   6 110001     49 'f'\n",
      "   7 1100100   100 'g'\n",
      "   7 1100101   101 'p'\n",
      "   6 110011     51 'x'\n",
      "   5 11010      26 'n'\n",
      "   5 11011      27 'o'\n",
      "   5 11100      28 'w'\n",
      "   5 11101      29 'a'\n",
      "   4 1111       15 'e'\n"
     ]
    }
   ],
   "source": [
    "codec.print_code_table()"
   ]
  },
  {
   "cell_type": "code",
   "execution_count": 65,
   "id": "3a7651de-e0f6-4619-bbba-5ca1ae77fb94",
   "metadata": {},
   "outputs": [
    {
     "data": {
      "text/plain": [
       "b\"\\x9d\\x89a\\x18\\xe7\\xaf\\x9d'\\xa57\\x88\\xfd\\xeb'\\xa9\\x7f:q,\\x0b\\xf9\\x7f\\xb4j\\xb2\\xc2\\xc9}\\x86\\x96\\x10u\\x8e\\xe9\\xc5\\x8f;\\xa7\\x17\\xf3\\xb3K\\x1f\\xa27\\xc3\\x88\\xf7\\x89Gn\""
      ]
     },
     "execution_count": 65,
     "metadata": {},
     "output_type": "execute_result"
    }
   ],
   "source": [
    "vallue = \"a test value\"\n",
    "encoded = codec.encode(value)\n",
    "encoded"
   ]
  },
  {
   "cell_type": "code",
   "execution_count": 66,
   "id": "6b2b1d00-116e-4c02-b063-20f6dcf54ee3",
   "metadata": {},
   "outputs": [
    {
     "data": {
      "text/plain": [
       "102"
      ]
     },
     "metadata": {},
     "output_type": "display_data"
    },
    {
     "data": {
      "text/plain": [
       "51"
      ]
     },
     "metadata": {},
     "output_type": "display_data"
    },
    {
     "data": {
      "text/plain": [
       "408"
      ]
     },
     "execution_count": 66,
     "metadata": {},
     "output_type": "execute_result"
    }
   ],
   "source": [
    "display(len(value))\n",
    "display(len(encoded))\n",
    "int.from_bytes(encoded, 'big').bit_length()\n"
   ]
  },
  {
   "cell_type": "code",
   "execution_count": 68,
   "id": "c7e33068-ccbc-4f1f-826a-1e2cfa86b832",
   "metadata": {},
   "outputs": [
    {
     "name": "stdout",
     "output_type": "stream",
     "text": [
      "Bits Code                     Value Symbol\n",
      "   4 0000                         0 'n'\n",
      "   4 0001                         1 's'\n",
      "   4 0010                         2 'h'\n",
      "   5 00110                        6 'u'\n",
      "   7 0011100                     28 'k'\n",
      "   9 001110100                  116 'Y'\n",
      "  14 00111010100000            3744 '0'\n",
      "  14 00111010100001            3745 '3'\n",
      "  13 0011101010001             1873 '‘'\n",
      "  13 0011101010010             1874 'X'\n",
      "  13 0011101010011             1875 '1'\n",
      "  11 00111010101                469 'J'\n",
      "  10 0011101011                 235 ':'\n",
      "   8 00111011                    59 'W'\n",
      "   8 00111100                    60 'H'\n",
      "   8 00111101                    61 \"'\"\n",
      "   9 001111100                  124 '!'\n",
      "  16 0011111010000000         16000 'é'\n",
      "  20 00111110100000010000    256016 'œ'\n",
      "  20 00111110100000010001    256017 'Æ'\n",
      "  21 001111101000000100100   512036 'î'\n",
      "  22 0011111010000001001010 1024074 _EOF\n",
      "  22 0011111010000001001011 1024075 '#'\n",
      "  21 001111101000000100110   512038 '\\t'\n",
      "  21 001111101000000100111   512039 '$'\n",
      "  18 001111101000000101       64005 'à'\n",
      "  17 00111110100000011        32003 '|'\n",
      "  15 001111101000001           8001 '9'\n",
      "  14 00111110100001            4001 '4'\n",
      "  14 00111110100010            4002 '2'\n",
      "  15 001111101000110           8006 '5'\n",
      "  16 0011111010001110         16014 '&'\n",
      "  17 00111110100011110        32030 '*'\n",
      "  17 00111110100011111        32031 'è'\n",
      "  14 00111110100100            4004 '”'\n",
      "  14 00111110100101            4005 ')'\n",
      "  13 0011111010011             2003 'Z'\n",
      "  12 001111101010              1002 'Q'\n",
      "  12 001111101011              1003 'z'\n",
      "  10 0011111011                 251 '_'\n",
      "   8 00111111                    63 ';'\n",
      "   4 0100                         4 'a'\n",
      "   5 01010                       10 '\\n'\n",
      "   5 01011                       11 'd'\n",
      "   6 011000                      24 'c'\n",
      "   7 0110010                     50 'E'\n",
      "   7 0110011                     51 'v'\n",
      "   6 011010                      26 'f'\n",
      "   7 0110110                     54 'T'\n",
      "   8 01101110                   110 'C'\n",
      "  10 0110111100                 444 'x'\n",
      "  14 01101111010000            7120 '('\n",
      "  15 011011110100010          14242 '8'\n",
      "  15 011011110100011          14243 '6'\n",
      "  15 011011110100100          14244 '\"'\n",
      "  22 0110111101001010000000 1823360 '%'\n",
      "  22 0110111101001010000001 1823361 '@'\n",
      "  22 0110111101001010000010 1823362 '\\\\'\n",
      "  22 0110111101001010000011 1823363 '`'\n",
      "  21 011011110100101000010   911682 '}'\n",
      "  21 011011110100101000011   911683 'â'\n",
      "  19 0110111101001010001     227921 'ç'\n",
      "  20 01101111010010100100    455844 'É'\n",
      "  20 01101111010010100101    455845 'ê'\n",
      "  19 0110111101001010011     227923 '/'\n",
      "  17 01101111010010101        56981 'æ'\n",
      "  16 0110111101001011         28491 '7'\n",
      "  14 01101111010011            7123 '“'\n",
      "  12 011011110101              1781 '—'\n",
      "  11 01101111011                891 'q'\n",
      "   9 011011111                  223 'G'\n",
      "   4 0111                         7 'o'\n",
      "   4 1000                         8 't'\n",
      "   5 10010                       18 'l'\n",
      "   6 100110                      38 'w'\n",
      "   6 100111                      39 '.'\n",
      "   9 101000000                  320 'P'\n",
      "   9 101000001                  321 '?'\n",
      "   8 10100001                   161 'L'\n",
      "   7 1010001                     81 'A'\n",
      "   6 101001                      41 'y'\n",
      "   6 101010                      42 ','\n",
      "   9 101011000                  344 'F'\n",
      "  10 1010110010                 690 'K'\n",
      "  11 10101100110               1382 'j'\n",
      "  11 10101100111               1383 'V'\n",
      "   8 10101101                   173 'R'\n",
      "   7 1010111                     87 'b'\n",
      "   7 1011000                     88 'p'\n",
      "   8 10110010                   178 'N'\n",
      "  10 1011001100                 716 '-'\n",
      "  11 10110011010               1434 ']'\n",
      "  11 10110011011               1435 '['\n",
      "   9 101100111                  359 'U'\n",
      "   6 101101                      45 'm'\n",
      "   5 10111                       23 'i'\n",
      "   3 110                          6 ' '\n",
      "   4 1110                        14 'e'\n",
      "   5 11110                       30 'r'\n",
      "   7 1111100                    124 'I'\n",
      "   9 111110100                  500 'D'\n",
      "   9 111110101                  501 'B'\n",
      "   8 11111011                   251 'O'\n",
      "   9 111111000                  504 '’'\n",
      "   9 111111001                  505 'M'\n",
      "   8 11111101                   253 'S'\n",
      "   7 1111111                    127 'g'\n"
     ]
    }
   ],
   "source": [
    "codec = load_shakespeare()\n",
    "codec.print_code_table()"
   ]
  },
  {
   "cell_type": "code",
   "execution_count": 69,
   "id": "753d564f-2e90-40b9-9e45-7b330b2a2381",
   "metadata": {},
   "outputs": [],
   "source": [
    "from burrowswheeler import transform, inverse\n"
   ]
  },
  {
   "cell_type": "code",
   "execution_count": 73,
   "id": "9cfeb93f-06d9-48a8-9a5b-3acf997693be",
   "metadata": {},
   "outputs": [],
   "source": [
    "def bwcomp(string):\n",
    "    t = transform(string)\n",
    "    print(f'{len(string)} => {len(t)}: {t}')"
   ]
  },
  {
   "cell_type": "code",
   "execution_count": 76,
   "id": "bde8732c-ccd5-4cd6-b814-56fa0dfa9907",
   "metadata": {},
   "outputs": [
    {
     "name": "stdout",
     "output_type": "stream",
     "text": [
      "3 => 5: ^S9|L\n",
      "3 => 5: ^1A|A\n",
      "3 => 5: ^1Z|Z\n",
      "3 => 5: ^9Z|Z\n",
      "3 => 5: ^9B|T\n"
     ]
    }
   ],
   "source": [
    "bwcomp(\"9SL\")\n",
    "bwcomp(\"1AA\")\n",
    "bwcomp(\"1ZZ\")\n",
    "bwcomp(\"9ZZ\")\n",
    "bwcomp(\"9BT\")\n"
   ]
  },
  {
   "cell_type": "code",
   "execution_count": 78,
   "id": "b957f53c-454b-42b8-badf-771df9152ffd",
   "metadata": {},
   "outputs": [
    {
     "name": "stdout",
     "output_type": "stream",
     "text": [
      "70 => 72: ?nwgtsaeterprgs ^|  ahhhggognnnn tt rr   eoiiooD llbHleettet  iu  sseoo?\n"
     ]
    }
   ],
   "source": [
    "bwcomp(\"How about on a longer string? Does it help the longer the string gets?\")"
   ]
  },
  {
   "cell_type": "code",
   "execution_count": null,
   "id": "b0fc822f-6d57-4981-9d5e-8a54afc8d6b1",
   "metadata": {},
   "outputs": [],
   "source": []
  }
 ],
 "metadata": {
  "kernelspec": {
   "display_name": "Python 3 (ipykernel)",
   "language": "python",
   "name": "python3"
  },
  "language_info": {
   "codemirror_mode": {
    "name": "ipython",
    "version": 3
   },
   "file_extension": ".py",
   "mimetype": "text/x-python",
   "name": "python",
   "nbconvert_exporter": "python",
   "pygments_lexer": "ipython3",
   "version": "3.9.12"
  }
 },
 "nbformat": 4,
 "nbformat_minor": 5
}
