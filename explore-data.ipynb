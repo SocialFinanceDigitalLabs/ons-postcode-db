{
 "cells": [
  {
   "cell_type": "code",
   "execution_count": 9,
   "id": "b0412766-ebf5-4fa8-bb34-85f40080a630",
   "metadata": {},
   "outputs": [],
   "source": [
    "import pandas as pd\n",
    "import sqlite3\n",
    "import dtale"
   ]
  },
  {
   "cell_type": "code",
   "execution_count": 6,
   "id": "22098f01-8709-443c-a4ac-5678a33be392",
   "metadata": {},
   "outputs": [],
   "source": [
    "con = sqlite3.connect(\"geo.db\")\n",
    "df = pd.read_sql_query(\"SELECT * from postcode\", con)"
   ]
  },
  {
   "cell_type": "code",
   "execution_count": 7,
   "id": "1969629a-8e93-43af-a83c-0c37f61ed204",
   "metadata": {},
   "outputs": [
    {
     "data": {
      "text/html": [
       "<div>\n",
       "<style scoped>\n",
       "    .dataframe tbody tr th:only-of-type {\n",
       "        vertical-align: middle;\n",
       "    }\n",
       "\n",
       "    .dataframe tbody tr th {\n",
       "        vertical-align: top;\n",
       "    }\n",
       "\n",
       "    .dataframe thead th {\n",
       "        text-align: right;\n",
       "    }\n",
       "</style>\n",
       "<table border=\"1\" class=\"dataframe\">\n",
       "  <thead>\n",
       "    <tr style=\"text-align: right;\">\n",
       "      <th></th>\n",
       "      <th>pcd</th>\n",
       "      <th>county</th>\n",
       "      <th>country</th>\n",
       "      <th>electoral_division</th>\n",
       "      <th>local_authority_district</th>\n",
       "      <th>osgrid_east</th>\n",
       "      <th>osgrid_north</th>\n",
       "      <th>osgrid_quality</th>\n",
       "      <th>urban_rural_classification</th>\n",
       "      <th>latitude</th>\n",
       "      <th>longitude</th>\n",
       "      <th>imd</th>\n",
       "    </tr>\n",
       "  </thead>\n",
       "  <tbody>\n",
       "    <tr>\n",
       "      <th>1624188</th>\n",
       "      <td>NP19 9RH</td>\n",
       "      <td>30.0</td>\n",
       "      <td>2</td>\n",
       "      <td>1576.0</td>\n",
       "      <td>757.0</td>\n",
       "      <td>334831.0</td>\n",
       "      <td>187772.0</td>\n",
       "      <td>1</td>\n",
       "      <td>3.0</td>\n",
       "      <td>51.585019</td>\n",
       "      <td>-2.941991</td>\n",
       "      <td>183</td>\n",
       "    </tr>\n",
       "    <tr>\n",
       "      <th>1803627</th>\n",
       "      <td>PE7 3FT</td>\n",
       "      <td>25.0</td>\n",
       "      <td>1</td>\n",
       "      <td>1575.0</td>\n",
       "      <td>414.0</td>\n",
       "      <td>520080.0</td>\n",
       "      <td>295647.0</td>\n",
       "      <td>1</td>\n",
       "      <td>3.0</td>\n",
       "      <td>52.545459</td>\n",
       "      <td>-0.230644</td>\n",
       "      <td>18904</td>\n",
       "    </tr>\n",
       "    <tr>\n",
       "      <th>2630959</th>\n",
       "      <td>WV16 9TA</td>\n",
       "      <td>25.0</td>\n",
       "      <td>1</td>\n",
       "      <td>1575.0</td>\n",
       "      <td>433.0</td>\n",
       "      <td>370847.0</td>\n",
       "      <td>293201.0</td>\n",
       "      <td>1</td>\n",
       "      <td>3.0</td>\n",
       "      <td>52.535884</td>\n",
       "      <td>-2.431228</td>\n",
       "      <td>30563</td>\n",
       "    </tr>\n",
       "    <tr>\n",
       "      <th>1126628</th>\n",
       "      <td>IV30 8BF</td>\n",
       "      <td>29.0</td>\n",
       "      <td>3</td>\n",
       "      <td>1577.0</td>\n",
       "      <td>716.0</td>\n",
       "      <td>321867.0</td>\n",
       "      <td>860357.0</td>\n",
       "      <td>1</td>\n",
       "      <td>16.0</td>\n",
       "      <td>57.626359</td>\n",
       "      <td>-3.309910</td>\n",
       "      <td>5116</td>\n",
       "    </tr>\n",
       "    <tr>\n",
       "      <th>1326996</th>\n",
       "      <td>LS15 0RD</td>\n",
       "      <td>25.0</td>\n",
       "      <td>1</td>\n",
       "      <td>1575.0</td>\n",
       "      <td>659.0</td>\n",
       "      <td>434486.0</td>\n",
       "      <td>433073.0</td>\n",
       "      <td>1</td>\n",
       "      <td>1.0</td>\n",
       "      <td>53.792849</td>\n",
       "      <td>-1.477988</td>\n",
       "      <td>2466</td>\n",
       "    </tr>\n",
       "  </tbody>\n",
       "</table>\n",
       "</div>"
      ],
      "text/plain": [
       "              pcd  county  country  electoral_division  \\\n",
       "1624188  NP19 9RH    30.0        2              1576.0   \n",
       "1803627   PE7 3FT    25.0        1              1575.0   \n",
       "2630959  WV16 9TA    25.0        1              1575.0   \n",
       "1126628  IV30 8BF    29.0        3              1577.0   \n",
       "1326996  LS15 0RD    25.0        1              1575.0   \n",
       "\n",
       "         local_authority_district  osgrid_east  osgrid_north  osgrid_quality  \\\n",
       "1624188                     757.0     334831.0      187772.0               1   \n",
       "1803627                     414.0     520080.0      295647.0               1   \n",
       "2630959                     433.0     370847.0      293201.0               1   \n",
       "1126628                     716.0     321867.0      860357.0               1   \n",
       "1326996                     659.0     434486.0      433073.0               1   \n",
       "\n",
       "         urban_rural_classification   latitude  longitude    imd  \n",
       "1624188                         3.0  51.585019  -2.941991    183  \n",
       "1803627                         3.0  52.545459  -0.230644  18904  \n",
       "2630959                         3.0  52.535884  -2.431228  30563  \n",
       "1126628                        16.0  57.626359  -3.309910   5116  \n",
       "1326996                         1.0  53.792849  -1.477988   2466  "
      ]
     },
     "execution_count": 7,
     "metadata": {},
     "output_type": "execute_result"
    }
   ],
   "source": [
    "df.sample(5)"
   ]
  },
  {
   "cell_type": "code",
   "execution_count": 12,
   "id": "4b74744b-c90e-4c2c-8f83-79dc490d9e2a",
   "metadata": {},
   "outputs": [
    {
     "data": {
      "text/html": [
       "\n",
       "        <iframe\n",
       "            width=\"100%\"\n",
       "            height=\"475\"\n",
       "            src=\"http://macbook-pro-3.lan:40000/dtale/iframe/3\"\n",
       "            frameborder=\"0\"\n",
       "            allowfullscreen\n",
       "            \n",
       "        ></iframe>\n",
       "        "
      ],
      "text/plain": [
       "<IPython.lib.display.IFrame at 0x121b39a60>"
      ]
     },
     "metadata": {},
     "output_type": "display_data"
    },
    {
     "data": {
      "text/plain": []
     },
     "execution_count": 12,
     "metadata": {},
     "output_type": "execute_result"
    }
   ],
   "source": [
    "d = dtale.show(df)\n",
    "d"
   ]
  },
  {
   "cell_type": "code",
   "execution_count": null,
   "id": "3f988253-ac48-4f03-8b70-388dc9c8ca1a",
   "metadata": {},
   "outputs": [],
   "source": []
  }
 ],
 "metadata": {
  "kernelspec": {
   "display_name": "Python 3 (ipykernel)",
   "language": "python",
   "name": "python3"
  },
  "language_info": {
   "codemirror_mode": {
    "name": "ipython",
    "version": 3
   },
   "file_extension": ".py",
   "mimetype": "text/x-python",
   "name": "python",
   "nbconvert_exporter": "python",
   "pygments_lexer": "ipython3",
   "version": "3.9.12"
  }
 },
 "nbformat": 4,
 "nbformat_minor": 5
}
